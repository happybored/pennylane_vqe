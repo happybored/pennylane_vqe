{
  "cells": [
    {
      "cell_type": "code",
      "execution_count": 1,
      "metadata": {
        "id": "oKdSvL53gXea"
      },
      "outputs": [],
      "source": [
        "import numpy as np\n",
        "import pylab\n",
        "import copy\n",
        "from qiskit import BasicAer,IBMQ\n",
        "from qiskit.aqua import aqua_globals, QuantumInstance\n",
        "from qiskit.aqua.algorithms import NumPyMinimumEigensolver, VQE\n",
        "from qiskit.aqua.components.optimizers import SLSQP\n",
        "from qiskit.chemistry.components.initial_states import HartreeFock\n",
        "from qiskit.chemistry.components.variational_forms import UCCSD\n",
        "from qiskit.chemistry.drivers import PySCFDriver\n",
        "from qiskit.chemistry.core import Hamiltonian, QubitMappingType\n"
      ]
    },
    {
      "cell_type": "code",
      "execution_count": 3,
      "metadata": {
        "colab": {
          "base_uri": "https://localhost:8080/"
        },
        "id": "p8y9N_3enTFE",
        "outputId": "20eb42f0-1db0-46c2-d306-365e27259123"
      },
      "outputs": [
        {
          "name": "stderr",
          "output_type": "stream",
          "text": [
            "configrc.store_credentials:WARNING:1970-01-01 09:44:17,458: Credentials already present. Set overwrite=True to overwrite.\n",
            "/home/hzr/anaconda3/envs/qf/lib/python3.8/site-packages/urllib3/connection.py:379: SystemTimeWarning: System time is way off (before 2020-07-01). This will probably lead to SSL verification errors\n",
            "  warnings.warn(\n",
            "/home/hzr/anaconda3/envs/qf/lib/python3.8/site-packages/urllib3/connection.py:379: SystemTimeWarning: System time is way off (before 2020-07-01). This will probably lead to SSL verification errors\n",
            "  warnings.warn(\n",
            "/home/hzr/anaconda3/envs/qf/lib/python3.8/site-packages/urllib3/connection.py:379: SystemTimeWarning: System time is way off (before 2020-07-01). This will probably lead to SSL verification errors\n",
            "  warnings.warn(\n",
            "/home/hzr/anaconda3/envs/qf/lib/python3.8/site-packages/urllib3/connection.py:379: SystemTimeWarning: System time is way off (before 2020-07-01). This will probably lead to SSL verification errors\n",
            "  warnings.warn(\n",
            "/home/hzr/anaconda3/envs/qf/lib/python3.8/site-packages/urllib3/connection.py:379: SystemTimeWarning: System time is way off (before 2020-07-01). This will probably lead to SSL verification errors\n",
            "  warnings.warn(\n"
          ]
        },
        {
          "name": "stdout",
          "output_type": "stream",
          "text": [
            "ibmq_lima\n"
          ]
        }
      ],
      "source": [
        "from qiskit.providers.ibmq import least_busy\n",
        "IBMQ.save_account('22f33f85e8f8144e9fa2b2dffa0b3a2fccf8396564670db4b52c0d00250263e47799f278c9584ebdb98964a655e806e4ff05fe73bd913f3496d3345a0abe43bd')\n",
        "IBMQ.load_account()\n",
        "IBMQ.providers()\n",
        "provider = IBMQ.get_provider('ibm-q-education')\n",
        "provider.backends()\n",
        "backends = provider.backends(filters = lambda x:x.configuration().n_qubits >= 4 and not x.configuration().simulator\n",
        "                             and x.status().operational==True)\n",
        "backend = least_busy(backends)\n",
        "print(backend)"
      ]
    },
    {
      "cell_type": "code",
      "execution_count": 12,
      "metadata": {
        "id": "yEDD5X5xhEPa"
      },
      "outputs": [],
      "source": [
        "molecule = 'H .0 .0 -{0}; Li .0 .0 {0}'\n",
        "distances = np.arange(1.0,4.25,0.25)\n",
        "vqe_energies = []\n",
        "hf_energies = []\n",
        "exact_energies = []\n",
        "real_vqe_energies = []\n",
        "\n"
      ]
    },
    {
      "cell_type": "code",
      "execution_count": 13,
      "metadata": {
        "colab": {
          "background_save": true,
          "base_uri": "https://localhost:8080/"
        },
        "id": "QaxTosEWiBQa",
        "outputId": "6462ebe2-b5e2-47f7-8ed1-92245e4cee5d"
      },
      "outputs": [
        {
          "name": "stdout",
          "output_type": "stream",
          "text": [
            "step 0\n"
          ]
        },
        {
          "name": "stderr",
          "output_type": "stream",
          "text": [
            "<ipython-input-13-76ebe99db2d6>:7: DeprecationWarning: The Hamiltonian class is deprecated as of Qiskit Aqua 0.8.0 and will be removed no earlier than 3 months after the release date. Instead, the FermionicTransformation can be used.\n",
            "  operator = Hamiltonian(qubit_mapping=QubitMappingType.PARITY,\n"
          ]
        },
        {
          "name": "stdout",
          "output_type": "stream",
          "text": [
            "step 1\n",
            "step 2\n",
            "step 3\n",
            "step 4\n",
            "step 5\n",
            "step 6\n",
            "step 7\n",
            "step 8\n",
            "step 9\n",
            "step 10\n",
            "step 11\n",
            "step 12\n"
          ]
        }
      ],
      "source": [
        "\n",
        "for i,d in enumerate(distances):\n",
        "  print(\"step\",i)\n",
        "\n",
        "  #setup exp\n",
        "  driver = PySCFDriver(molecule.format(d/2), basis='sto3g',)\n",
        "  qmolecule = driver.run()\n",
        "  operator = Hamiltonian(qubit_mapping=QubitMappingType.PARITY,\n",
        "                         two_qubit_reduction=True, freeze_core=True,\n",
        "                         orbital_reduction=[-3,-2])\n",
        "  \n",
        "  qubit_op, aux_ops = operator.run(qmolecule)\n",
        "\n",
        "  #exact res\n",
        "  exact_result = NumPyMinimumEigensolver(qubit_op,aux_operators=aux_ops).run()\n",
        "  exact_result = operator.process_algorithm_result(exact_result)\n",
        "\n",
        "  #VQE\n",
        "  optimizer = SLSQP(maxiter=1000)\n",
        "  initial_state = HartreeFock(operator.molecule_info['num_orbitals'],\n",
        "                               operator.molecule_info['num_particles'],\n",
        "                               qubit_mapping=operator._qubit_mapping,\n",
        "                               two_qubit_reduction=operator._two_qubit_reduction)\n",
        "                               \n",
        "  var_form = UCCSD(num_orbitals=operator.molecule_info['num_orbitals'],\n",
        "                   num_particles=operator.molecule_info['num_particles'],\n",
        "                   initial_state=initial_state,\n",
        "                   qubit_mapping=operator._qubit_mapping,\n",
        "                   two_qubit_reduction=operator._two_qubit_reduction)\n",
        "  \n",
        "  algo = VQE(qubit_op, var_form, optimizer, aux_operators=aux_ops)\n",
        "\n",
        "  vqe_result = algo.run(QuantumInstance(BasicAer.get_backend('statevector_simulator')))\n",
        "  vqe_result = operator.process_algorithm_result(vqe_result)\n",
        "\n",
        "  # VQE Real Machine\n",
        "  # real_vqe_result = algo.run(QuantumInstance(backend))\n",
        "  # real_vqe_result = operator.process_algorithm_result(real_vqe_result)\n",
        "\n",
        "\n",
        "  exact_energies.append(exact_result.energy)\n",
        "  vqe_energies.append(vqe_result.energy)\n",
        "  hf_energies.append(vqe_result.hartree_fock_energy)\n",
        "  # real_vqe_energies.appen(real_vqe_result.energy)\n",
        "\n"
      ]
    },
    {
      "cell_type": "code",
      "execution_count": 14,
      "metadata": {
        "id": "pufMta4Pl0tN"
      },
      "outputs": [
        {
          "data": {
            "text/html": [
              "<pre style=\"word-wrap: normal;white-space: pre;background: #fff0;line-height: 1.1;font-family: &quot;Courier New&quot;,Courier,monospace\">     ┌───┐┌──────────────┐┌──────────────┐┌──────────────┐┌──────────────┐»\n",
              "q_0: ┤ X ├┤0             ├┤0             ├┤0             ├┤0             ├»\n",
              "     ├───┤│              ││              ││              ││              │»\n",
              "q_1: ┤ X ├┤1             ├┤1             ├┤1             ├┤1             ├»\n",
              "     └───┘│  Evolution^1 ││  Evolution^1 ││  Evolution^1 ││  Evolution^1 │»\n",
              "q_2: ─────┤2             ├┤2             ├┤2             ├┤2             ├»\n",
              "          │              ││              ││              ││              │»\n",
              "q_3: ─────┤3             ├┤3             ├┤3             ├┤3             ├»\n",
              "          └──────────────┘└──────────────┘└──────────────┘└──────────────┘»\n",
              "«     ┌──────────────┐┌──────────────┐┌──────────────┐┌──────────────┐\n",
              "«q_0: ┤0             ├┤0             ├┤0             ├┤0             ├\n",
              "«     │              ││              ││              ││              │\n",
              "«q_1: ┤1             ├┤1             ├┤1             ├┤1             ├\n",
              "«     │  Evolution^1 ││  Evolution^1 ││  Evolution^1 ││  Evolution^1 │\n",
              "«q_2: ┤2             ├┤2             ├┤2             ├┤2             ├\n",
              "«     │              ││              ││              ││              │\n",
              "«q_3: ┤3             ├┤3             ├┤3             ├┤3             ├\n",
              "«     └──────────────┘└──────────────┘└──────────────┘└──────────────┘</pre>"
            ],
            "text/plain": [
              "     ┌───┐┌──────────────┐┌──────────────┐┌──────────────┐┌──────────────┐»\n",
              "q_0: ┤ X ├┤0             ├┤0             ├┤0             ├┤0             ├»\n",
              "     ├───┤│              ││              ││              ││              │»\n",
              "q_1: ┤ X ├┤1             ├┤1             ├┤1             ├┤1             ├»\n",
              "     └───┘│  Evolution^1 ││  Evolution^1 ││  Evolution^1 ││  Evolution^1 │»\n",
              "q_2: ─────┤2             ├┤2             ├┤2             ├┤2             ├»\n",
              "          │              ││              ││              ││              │»\n",
              "q_3: ─────┤3             ├┤3             ├┤3             ├┤3             ├»\n",
              "          └──────────────┘└──────────────┘└──────────────┘└──────────────┘»\n",
              "«     ┌──────────────┐┌──────────────┐┌──────────────┐┌──────────────┐\n",
              "«q_0: ┤0             ├┤0             ├┤0             ├┤0             ├\n",
              "«     │              ││              ││              ││              │\n",
              "«q_1: ┤1             ├┤1             ├┤1             ├┤1             ├\n",
              "«     │  Evolution^1 ││  Evolution^1 ││  Evolution^1 ││  Evolution^1 │\n",
              "«q_2: ┤2             ├┤2             ├┤2             ├┤2             ├\n",
              "«     │              ││              ││              ││              │\n",
              "«q_3: ┤3             ├┤3             ├┤3             ├┤3             ├\n",
              "«     └──────────────┘└──────────────┘└──────────────┘└──────────────┘"
            ]
          },
          "execution_count": 14,
          "metadata": {},
          "output_type": "execute_result"
        }
      ],
      "source": [
        "algo.get_optimal_circuit().draw(with_layout=False)"
      ]
    },
    {
      "cell_type": "code",
      "execution_count": 18,
      "metadata": {
        "colab": {
          "base_uri": "https://localhost:8080/",
          "height": 235
        },
        "id": "hcUxw0kBkzk-",
        "outputId": "b4a439a9-5c52-41c9-e393-5569086e150e"
      },
      "outputs": [
        {
          "data": {
            "text/plain": [
              "<matplotlib.legend.Legend at 0x7fcc0fe71310>"
            ]
          },
          "execution_count": 18,
          "metadata": {},
          "output_type": "execute_result"
        },
        {
          "data": {
            "image/png": "[encoded data removed]",
            "text/plain": [
              "<Figure size 432x288 with 1 Axes>"
            ]
          },
          "metadata": {
            "needs_background": "light"
          },
          "output_type": "display_data"
        }
      ],
      "source": [
        "pylab.plot(distances, hf_energies, label='Hartree-Fock')\n",
        "pylab.plot(distances, vqe_energies, 'o', label='vqe')\n",
        "pylab.plot(distances, exact_energies, 'x', label='Exact')\n",
        "\n",
        "pylab.xlabel('Interatomic distance')\n",
        "pylab.ylabel('Energy')\n",
        "pylab.title('LiH Ground State Energy')\n",
        "pylab.legend(loc='upper right')\n"
      ]
    }
  ],
  "metadata": {
    "colab": {
      "collapsed_sections": [],
      "name": "VQE.ipynb",
      "provenance": [],
      "toc_visible": true
    },
    "interpreter": {
      "hash": "18e8d40a6b6e20d7376a647c383b7669d880a9813782c882cbfe1cfe2ceda198"
    },
    "kernelspec": {
      "display_name": "Python 3.8.10 ('qf')",
      "language": "python",
      "name": "python3"
    },
    "language_info": {
      "codemirror_mode": {
        "name": "ipython",
        "version": 3
      },
      "file_extension": ".py",
      "mimetype": "text/x-python",
      "name": "python",
      "nbconvert_exporter": "python",
      "pygments_lexer": "ipython3",
      "version": "3.8.10"
    }
  },
  "nbformat": 4,
  "nbformat_minor": 0
}
