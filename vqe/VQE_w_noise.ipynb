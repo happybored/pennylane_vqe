{
  "cells": [
    {
      "cell_type": "code",
      "execution_count": 2,
      "metadata": {
        "colab": {
          "base_uri": "https://localhost:8080/"
        },
        "id": "QtIbKb6WV9W5",
        "outputId": "76b528cc-6781-44e0-ecf6-21ca7c3e3d55"
      },
      "outputs": [],
      "source": [
        "# !pip install -q qiskit\n",
        "# !pip install -q pyscf\n",
        "# !pip install -q qiskit-aqua\n",
        "# !pip install pylatexenc\n"
      ]
    },
    {
      "cell_type": "code",
      "execution_count": 3,
      "metadata": {
        "id": "F32FOBOfV_FP"
      },
      "outputs": [],
      "source": [
        "import numpy as np\n",
        "import pylab\n",
        "import copy\n",
        "from qiskit import BasicAer,IBMQ\n",
        "from qiskit.aqua import aqua_globals, QuantumInstance\n",
        "from qiskit.aqua.algorithms import NumPyMinimumEigensolver\n",
        "from myvqe import VQE\n",
        "from qiskit.aqua.components.optimizers import SLSQP\n",
        "from qiskit.chemistry.components.initial_states import HartreeFock\n",
        "from qiskit.chemistry.components.variational_forms import UCCSD\n",
        "from qiskit.chemistry.drivers import PySCFDriver\n",
        "from qiskit.chemistry.core import Hamiltonian, QubitMappingType\n",
        "from qiskit.algorithms.optimizers import SPSA\n"
      ]
    },
    {
      "cell_type": "code",
      "execution_count": 4,
      "metadata": {
        "colab": {
          "base_uri": "https://localhost:8080/"
        },
        "id": "k6nNYno_WEkd",
        "outputId": "0801355b-d7de-4b15-a1bf-301d5d3b6a43"
      },
      "outputs": [
        {
          "name": "stdout",
          "output_type": "stream",
          "text": [
            "NoiseModel:\n",
            "  Basis gates: ['cx', 'id', 'kraus', 'qerror_loc', 'quantum_channel', 'roerror', 'rz', 'save_amplitudes', 'save_amplitudes_sq', 'save_density_matrix', 'save_expval', 'save_expval_var', 'save_probabilities', 'save_probabilities_dict', 'save_stabilizer', 'save_state', 'save_statevector', 'save_statevector_dict', 'set_density_matrix', 'set_stabilizer', 'set_statevector', 'snapshot', 'sx', 'x']\n",
            "  Instructions with noise: ['x', 'cx', 'id', 'measure', 'sx', 'reset']\n",
            "  Qubits with noise: [0, 1, 2, 3, 4, 5, 6]\n",
            "  Specific qubit errors: [('id', (0,)), ('id', (1,)), ('id', (2,)), ('id', (3,)), ('id', (4,)), ('id', (5,)), ('id', (6,)), ('sx', (0,)), ('sx', (1,)), ('sx', (2,)), ('sx', (3,)), ('sx', (4,)), ('sx', (5,)), ('sx', (6,)), ('x', (0,)), ('x', (1,)), ('x', (2,)), ('x', (3,)), ('x', (4,)), ('x', (5,)), ('x', (6,)), ('cx', (5, 4)), ('cx', (4, 5)), ('cx', (1, 3)), ('cx', (3, 1)), ('cx', (6, 5)), ('cx', (5, 6)), ('cx', (3, 5)), ('cx', (5, 3)), ('cx', (2, 1)), ('cx', (1, 2)), ('cx', (0, 1)), ('cx', (1, 0)), ('reset', (0,)), ('reset', (1,)), ('reset', (2,)), ('reset', (3,)), ('reset', (4,)), ('reset', (5,)), ('reset', (6,)), ('measure', (0,)), ('measure', (1,)), ('measure', (2,)), ('measure', (3,)), ('measure', (4,)), ('measure', (5,)), ('measure', (6,))]\n",
            "\n",
            "step 0\n"
          ]
        },
        {
          "name": "stderr",
          "output_type": "stream",
          "text": [
            "<ipython-input-4-23c2ca7a1dfe>:111: DeprecationWarning: The Hamiltonian class is deprecated as of Qiskit Aqua 0.8.0 and will be removed no earlier than 3 months after the release date. Instead, the FermionicTransformation can be used.\n",
            "  operator = Hamiltonian(qubit_mapping=QubitMappingType.PARITY,\n"
          ]
        },
        {
          "name": "stdout",
          "output_type": "stream",
          "text": [
            "step 1\n"
          ]
        },
        {
          "name": "stderr",
          "output_type": "stream",
          "text": [
            "<ipython-input-4-23c2ca7a1dfe>:111: DeprecationWarning: The Hamiltonian class is deprecated as of Qiskit Aqua 0.8.0 and will be removed no earlier than 3 months after the release date. Instead, the FermionicTransformation can be used.\n",
            "  operator = Hamiltonian(qubit_mapping=QubitMappingType.PARITY,\n"
          ]
        },
        {
          "name": "stdout",
          "output_type": "stream",
          "text": [
            "step 2\n",
            "step 3\n",
            "step 4\n",
            "step 5\n",
            "step 6\n",
            "step 7\n"
          ]
        }
      ],
      "source": [
        "import sys\n",
        "import math\n",
        "from qiskit import Aer\n",
        "import os\n",
        "from qiskit.providers.aer import QasmSimulator\n",
        "from qiskit.providers.aer.noise import NoiseModel\n",
        "from qiskit.test.mock import FakeJakarta\n",
        "from qiskit.ignis.mitigation import MeasurementFilter,CompleteMeasFitter\n",
        "\n",
        "device_backend = FakeJakarta()\n",
        "seed =17\n",
        "vqe_energies = []\n",
        "hf_energies = []\n",
        "\n",
        "\n",
        "exact_energies = []\n",
        "noisy_vqe_energies = []\n",
        "noisy_mitigation_vqe_energies = []\n",
        "compression_exact_energies = []\n",
        "compression_noisy_vqe_energies = []\n",
        "compression_noisy_mitigation_vqe_energies = []\n",
        "\n",
        "\n",
        "\n",
        "exact_energies_opt = []\n",
        "noisy_vqe_energies_opt = []\n",
        "noisy_mitigation_vqe_energies_opt = []\n",
        "compression_exact_energies_opt = []\n",
        "compression_noisy_vqe_energies_opt = []\n",
        "compression_noisy_mitigation_vqe_energies_opt = []\n",
        "\n",
        "distances = np.arange(0.5,4.5,0.5)\n",
        "\n",
        "\n",
        "def get_fixing_parameters(weight,regu_val = math.pi *2 ):\n",
        "    t1 = np.floor(weight/regu_val) \n",
        "    t2 = weight % (regu_val)\n",
        "    t1[t2>regu_val/2] = t1[t2>regu_val/2] + 1\n",
        "    t2[t2>regu_val/2] = regu_val/2 - t2[t2>regu_val/2]\n",
        "    fixing_paras = t1*regu_val\n",
        "    return fixing_paras\n",
        "\n",
        "\n",
        "def get_fixing_abs(weight,fix_para):\n",
        "    fixing_abs= np.abs(weight-fix_para)\n",
        "    return fixing_abs\n",
        "\n",
        "def compression(weight,percent=50):\n",
        "    fixing_para = get_fixing_parameters(weight)\n",
        "    weight_temp = get_fixing_abs(weight,fixing_para)\n",
        "    percentile = np.percentile(weight_temp, percent)  # get a value for this percentitle\n",
        "    under_threshold = weight_temp < percentile\n",
        "    weight[under_threshold] = fixing_para[under_threshold]\n",
        "    return weight\n",
        "\n",
        "def store_intermediate_result(vqe,eval_count, parameters, mean, std):\n",
        "    # print('intermediate res:\\n')\n",
        "    # print('step {}, original Energy:{}'.format(eval_count,mean))\n",
        "    # print(parameters)\n",
        "    # compress\n",
        "    parameters = compression(parameters)\n",
        "    means = vqe.manual_energy_evaluation(parameters)\n",
        "    # print('step {}, after compression, Energy:{}'.format(eval_count,means))\n",
        "    exact_energies_opt.append(mean)\n",
        "    compression_exact_energies_opt.append(means)\n",
        "\n",
        "def store_intermediate_result_noise(vqe,eval_count, parameters, mean, std):\n",
        "\n",
        "    # print('step {}, original Energy:{}'.format(eval_count,mean))\n",
        "    # print(parameters)\n",
        "    # compress\n",
        "    parameters = compression(parameters)\n",
        "    means = vqe.manual_energy_evaluation(parameters)\n",
        "    # print('step {}, after compression, Energy:{}'.format(eval_count,means))\n",
        "    noisy_vqe_energies_opt.append(mean)\n",
        "    compression_noisy_vqe_energies_opt.append(means)\n",
        "\n",
        "def store_intermediate_result_noise_mitigation(vqe,eval_count, parameters, mean, std):\n",
        "\n",
        "    parameters = compression(parameters)\n",
        "    means = vqe.manual_energy_evaluation(parameters)\n",
        "    # print('step {}, after compression, Energy:{}'.format(eval_count,means))\n",
        "    noisy_mitigation_vqe_energies_opt.append(mean)\n",
        "    compression_noisy_mitigation_vqe_energies_opt.append(means)\n",
        "\n",
        "backend = Aer.get_backend('aer_simulator')\n",
        "counts1 = []\n",
        "values1 = []\n",
        "noise_model = None\n",
        "device = QasmSimulator.from_backend(device_backend)\n",
        "coupling_map = device.configuration().coupling_map\n",
        "noise_model = NoiseModel.from_backend(device)\n",
        "basis_gates = noise_model.basis_gates\n",
        "\n",
        "print(noise_model)\n",
        "print()\n",
        "\n",
        "\n",
        "\n",
        "for i,d in enumerate(distances):\n",
        "  print(\"step\",i)\n",
        "  \n",
        "  exact_energies_opt = []\n",
        "  noisy_vqe_energies_opt = []\n",
        "  compression_exact_energies_opt = []\n",
        "  compression_noisy_vqe_energies_opt = []\n",
        "  #setup exp\n",
        "  molecule = 'Li .0 .0 -{}; H .0 .0 {}'.format(d/2,d/2)\n",
        "  driver = PySCFDriver(molecule, basis='sto3g')\n",
        "  qmolecule = driver.run()\n",
        "  operator = Hamiltonian(qubit_mapping=QubitMappingType.PARITY,\n",
        "                         two_qubit_reduction=True, freeze_core=True,\n",
        "                         orbital_reduction=[-3,-2])\n",
        "  # operator = Hamiltonian(qubit_mapping=QubitMappingType.PARITY)\n",
        "\n",
        "\n",
        "  #exact res\n",
        "  qubit_op, aux_ops = operator.run(qmolecule)\n",
        "\n",
        "  classical_result = NumPyMinimumEigensolver(qubit_op,aux_operators=aux_ops).run()\n",
        "#   print('exact_result:\\n',classical_result)\n",
        "  classical_result_mol = operator.process_algorithm_result(classical_result)\n",
        "#   print('exact_result:\\n',classical_result_mol)\n",
        "\n",
        "  #VQE\n",
        "  optimizer = SLSQP(maxiter=1000)\n",
        "  # optimizer = SPSA()\n",
        "  initial_state = HartreeFock(operator.molecule_info['num_orbitals'],\n",
        "                               operator.molecule_info['num_particles'],\n",
        "                               qubit_mapping=operator._qubit_mapping,\n",
        "                               two_qubit_reduction=operator._two_qubit_reduction)\n",
        "  var_form = UCCSD(num_orbitals=operator.molecule_info['num_orbitals'],\n",
        "                   num_particles=operator.molecule_info['num_particles'],\n",
        "                   initial_state=initial_state,\n",
        "                   qubit_mapping=operator._qubit_mapping,\n",
        "                   two_qubit_reduction=operator._two_qubit_reduction)\n",
        "  qi_state_vector = QuantumInstance(BasicAer.get_backend('statevector_simulator'))\n",
        "  qi_noise_mitigation = QuantumInstance(backend=backend, seed_simulator=seed, seed_transpiler=seed,\n",
        "                     coupling_map=coupling_map, noise_model=noise_model,\n",
        "                     measurement_error_mitigation_cls=CompleteMeasFitter,\n",
        "                     cals_matrix_refresh_period=30)\n",
        "\n",
        "  qi_noise =QuantumInstance(backend, coupling_map=coupling_map, noise_model=noise_model)\n",
        "  algo = VQE(qubit_op, var_form, optimizer, aux_operators=aux_ops,callback=store_intermediate_result)\n",
        "  vqe_result = algo.run(qi_state_vector)\n",
        "  # print('vqe_result:\\n',vqe_result)\n",
        "  \n",
        "  vqe_result_molecule = operator.process_algorithm_result(vqe_result)\n",
        "  # print('vqe_result_molecule:\\n',vqe_result_molecule)\n",
        "  \n",
        "  # print(vqe_result)\n",
        "  \n",
        "  noisy_algo = VQE(qubit_op, var_form, optimizer, aux_operators=aux_ops, callback=store_intermediate_result_noise)\n",
        "  noisy_vqe_result = noisy_algo.run(qi_noise)\n",
        "#   print('noisy_vqe_result:\\n',noisy_vqe_result)\n",
        "  noisy_vqe_result_molecule = operator.process_algorithm_result(noisy_vqe_result)\n",
        "  # print('noisy_vqe_result_molecule:\\n',noisy_vqe_result_molecule)\n",
        "  \n",
        "  \n",
        "  \n",
        "  noisy_mitigation_algo = VQE(qubit_op, var_form, optimizer, aux_operators=aux_ops, callback=store_intermediate_result_noise_mitigation)\n",
        "  noisy_mitigation_vqe_result = noisy_mitigation_algo.run(qi_noise_mitigation)\n",
        "#   print('noisy_mitigation_vqe_result:\\n',noisy_mitigation_vqe_result)\n",
        "  noisy_mitigation_result_molecule = operator.process_algorithm_result(noisy_mitigation_vqe_result)\n",
        "  # print('noisy_mitigation_result_molecule:\\n',noisy_mitigation_result_molecule)\n",
        "\n",
        "  \n",
        "  vqe_energies.append(classical_result['eigenvalue'])\n",
        "  exact_energies.append(np.min(exact_energies_opt))\n",
        "  compression_exact_energies.append(np.min(compression_exact_energies_opt))\n",
        "\n",
        "  noisy_vqe_energies.append(np.min(noisy_vqe_energies_opt))\n",
        "  compression_noisy_vqe_energies.append(np.min(compression_noisy_vqe_energies_opt))\n",
        "  \n",
        "  noisy_mitigation_vqe_energies.append(np.min(noisy_mitigation_vqe_energies_opt))\n",
        "  compression_noisy_mitigation_vqe_energies.append(np.min(compression_noisy_mitigation_vqe_energies_opt))\n",
        "\n",
        "\n",
        "\n",
        "\n"
      ]
    },
    {
      "cell_type": "code",
      "execution_count": 12,
      "metadata": {
        "colab": {
          "base_uri": "https://localhost:8080/",
          "height": 384
        },
        "id": "JuhnnKv5WHD1",
        "outputId": "0bc7cf5a-50bd-4c56-b18f-69378c20ea5d"
      },
      "outputs": [
        {
          "name": "stdout",
          "output_type": "stream",
          "text": [
            "[0.5 1.  1.5 2.  2.5 3.  3.5 4. ]\n",
            "[]\n"
          ]
        },
        {
          "data": {
            "image/png": "[encoded data removed]",
            "text/plain": [
              "<Figure size 432x288 with 1 Axes>"
            ]
          },
          "metadata": {
            "needs_background": "light"
          },
          "output_type": "display_data"
        }
      ],
      "source": [
        "print(distances)\n",
        "print(hf_energies)\n",
        "\n",
        "# pylab.plot(distances, hf_energies, label='Hartree-Fock')\n",
        "\n",
        "pylab.plot(distances, exact_energies, label='vqe_energies')\n",
        "pylab.plot(distances, exact_energies,'o', label='Exact')\n",
        "pylab.plot(distances, noisy_vqe_energies,  label='Noisy')\n",
        "pylab.plot(distances, compression_exact_energies,'x', label='Compression Exact')\n",
        "pylab.plot(distances, compression_noisy_vqe_energies,'-', label='Compression Noisy')\n",
        "pylab.plot(distances, noisy_mitigation_vqe_energies,'o', label='Compression Mitigation Exact')\n",
        "pylab.plot(distances, compression_noisy_mitigation_vqe_energies, label='Compression Mitigation Noisy')\n",
        "# compression_exact_energies = []\n",
        "# compression_noisy_vqe_energies = []\n",
        "\n",
        "pylab.xlabel('Interatomic distance')\n",
        "pylab.ylabel('Energy')\n",
        "pylab.title('Li-H Ground State Energy')\n",
        "pylab.legend(loc='lower right')\n",
        "pylab.savefig('nn')\n"
      ]
    }
  ],
  "metadata": {
    "colab": {
      "collapsed_sections": [],
      "name": "VQE_w_noise.ipynb",
      "provenance": []
    },
    "kernelspec": {
      "display_name": "Python 3.8.10 ('qf')",
      "language": "python",
      "name": "python3"
    },
    "language_info": {
      "codemirror_mode": {
        "name": "ipython",
        "version": 3
      },
      "file_extension": ".py",
      "mimetype": "text/x-python",
      "name": "python",
      "nbconvert_exporter": "python",
      "pygments_lexer": "ipython3",
      "version": "3.8.10"
    },
    "vscode": {
      "interpreter": {
        "hash": "18e8d40a6b6e20d7376a647c383b7669d880a9813782c882cbfe1cfe2ceda198"
      }
    }
  },
  "nbformat": 4,
  "nbformat_minor": 0
}
